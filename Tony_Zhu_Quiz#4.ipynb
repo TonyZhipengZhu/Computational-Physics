{
 "cells": [
  {
   "cell_type": "markdown",
   "metadata": {},
   "source": [
    "Import libraries"
   ]
  },
  {
   "cell_type": "code",
   "execution_count": 26,
   "metadata": {},
   "outputs": [],
   "source": [
    "import numpy as np\n",
    "import matplotlib.pyplot as plt\n",
    "from scipy.optimize import fsolve"
   ]
  },
  {
   "cell_type": "markdown",
   "metadata": {},
   "source": [
    "Define some variables and give values to them"
   ]
  },
  {
   "cell_type": "code",
   "execution_count": 27,
   "metadata": {},
   "outputs": [],
   "source": [
    "m=9.109E-31\n",
    "v=1.602E-16\n",
    "a=0.529E-10\n",
    "h_bar=1.055E-34\n",
    "\n",
    "k=np.sqrt(2*m*a**2*v/(h_bar**2))\n"
   ]
  },
  {
   "cell_type": "markdown",
   "metadata": {},
   "source": [
    "Find solutions to the equation $s\\cot(s) = -\\sqrt{(k^2-s^2)}$"
   ]
  },
  {
   "cell_type": "code",
   "execution_count": 28,
   "metadata": {},
   "outputs": [
    {
     "data": {
      "text/plain": [
       "[<matplotlib.lines.Line2D at 0x163a16bf780>]"
      ]
     },
     "execution_count": 28,
     "metadata": {},
     "output_type": "execute_result"
    },
    {
     "data": {
      "image/png": "[encoded data removed]",
      "text/plain": [
       "<matplotlib.figure.Figure at 0x163a162bcf8>"
      ]
     },
     "metadata": {},
     "output_type": "display_data"
    }
   ],
   "source": [
    "def lhs(s):\n",
    "    return s*((np.tan(s))**(-1))\n",
    "\n",
    "def rhs(s):\n",
    "    return -np.sqrt(k**2-s**2)\n",
    "                   \n",
    "    \n",
    "s = np.linspace(0.001,k)\n",
    "\n",
    "right = rhs(s)\n",
    "\n",
    "left = lhs(s)\n",
    "\n",
    "plt.axis([0,k,-20,20])\n",
    "\n",
    "plt.plot(s,left,'r-')\n",
    "\n",
    "plt.plot(s,right,'b-')\n",
    "\n"
   ]
  },
  {
   "cell_type": "markdown",
   "metadata": {},
   "source": [
    "Find the exact roots using fsolve and calculate energy for each s"
   ]
  },
  {
   "cell_type": "code",
   "execution_count": 29,
   "metadata": {},
   "outputs": [
    {
     "name": "stdout",
     "output_type": "stream",
     "text": [
      "the roots are [2.80765825] [5.57458655] [8.16227193]\n",
      "the energies are [1.4298998e-16] [9.23549444e-17] [1.47495745e-17]\n"
     ]
    }
   ],
   "source": [
    "def func(s):\n",
    "    return s*((np.tan(s))**(-1))+np.sqrt(k**2-s**2)\n",
    "\n",
    "r1=fsolve(func,2)\n",
    "r2=fsolve(func,5)\n",
    "r3=fsolve(func,8)\n",
    "\n",
    "print(\"the roots are\", r1,r2,r3)\n",
    "\n",
    "\n",
    "\n",
    "E1=v*(1-r1**2/(k**2))\n",
    "E2=v*(1-r2**2/(k**2))\n",
    "E3=v*(1-r3**2/(k**2))\n",
    "\n",
    "print(\"the energies are\",E1,E2,E3)\n"
   ]
  },
  {
   "cell_type": "code",
   "execution_count": null,
   "metadata": {},
   "outputs": [],
   "source": []
  },
  {
   "cell_type": "code",
   "execution_count": null,
   "metadata": {},
   "outputs": [],
   "source": []
  }
 ],
 "metadata": {
  "kernelspec": {
   "display_name": "Python 3",
   "language": "python",
   "name": "python3"
  },
  "language_info": {
   "codemirror_mode": {
    "name": "ipython",
    "version": 3
   },
   "file_extension": ".py",
   "mimetype": "text/x-python",
   "name": "python",
   "nbconvert_exporter": "python",
   "pygments_lexer": "ipython3",
   "version": "3.6.4"
  }
 },
 "nbformat": 4,
 "nbformat_minor": 2
}
